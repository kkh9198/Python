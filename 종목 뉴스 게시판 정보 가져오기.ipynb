{
 "cells": [
  {
   "cell_type": "code",
   "execution_count": 47,
   "metadata": {},
   "outputs": [],
   "source": [
    "import pandas as pd\n",
    "import requests\n",
    "from bs4 import BeautifulSoup as bs"
   ]
  },
  {
   "cell_type": "code",
   "execution_count": 48,
   "metadata": {},
   "outputs": [],
   "source": [
    "base_url = \"https://finance.naver.com\""
   ]
  },
  {
   "cell_type": "code",
   "execution_count": 49,
   "metadata": {},
   "outputs": [
    {
     "data": {
      "text/plain": [
       "(157, 4)"
      ]
     },
     "execution_count": 49,
     "metadata": {},
     "output_type": "execute_result"
    }
   ],
   "source": [
    "raw = pd.read_csv(\"news_005930_삼성전자_2021.02.14.csv\")\n",
    "raw.shape"
   ]
  },
  {
   "cell_type": "code",
   "execution_count": 50,
   "metadata": {},
   "outputs": [
    {
     "data": {
      "text/html": [
       "<div>\n",
       "<style scoped>\n",
       "    .dataframe tbody tr th:only-of-type {\n",
       "        vertical-align: middle;\n",
       "    }\n",
       "\n",
       "    .dataframe tbody tr th {\n",
       "        vertical-align: top;\n",
       "    }\n",
       "\n",
       "    .dataframe thead th {\n",
       "        text-align: right;\n",
       "    }\n",
       "</style>\n",
       "<table border=\"1\" class=\"dataframe\">\n",
       "  <thead>\n",
       "    <tr style=\"text-align: right;\">\n",
       "      <th></th>\n",
       "      <th>제목</th>\n",
       "      <th>정보제공</th>\n",
       "      <th>날짜</th>\n",
       "      <th>href</th>\n",
       "    </tr>\n",
       "  </thead>\n",
       "  <tbody>\n",
       "    <tr>\n",
       "      <th>0</th>\n",
       "      <td>반도체 '슈퍼 호황'… 삼성전자 역대급 채용</td>\n",
       "      <td>파이낸셜뉴스</td>\n",
       "      <td>2021.02.14 18:33</td>\n",
       "      <td>/item/news_read.nhn?article_id=0004583903&amp;offi...</td>\n",
       "    </tr>\n",
       "    <tr>\n",
       "      <th>1</th>\n",
       "      <td>[단독]인력 태부족 \"삼성반도체 경력채용 세자릿수\"..기존 직원도 전...</td>\n",
       "      <td>파이낸셜뉴스</td>\n",
       "      <td>2021.02.14 13:16</td>\n",
       "      <td>/item/news_read.nhn?article_id=0004583730&amp;offi...</td>\n",
       "    </tr>\n",
       "    <tr>\n",
       "      <th>2</th>\n",
       "      <td>\"넷플릭스 돈주고 왜 봐\"… 삼성-LG, TV 무료 K콘텐츠 대결</td>\n",
       "      <td>파이낸셜뉴스</td>\n",
       "      <td>2021.02.14 18:04</td>\n",
       "      <td>/item/news_read.nhn?article_id=0004583862&amp;offi...</td>\n",
       "    </tr>\n",
       "    <tr>\n",
       "      <th>3</th>\n",
       "      <td>\"넷플릭스 왜 봐\"...삼성 vs LG 무료 K콘텐츠 전쟁</td>\n",
       "      <td>파이낸셜뉴스</td>\n",
       "      <td>2021.02.14 15:28</td>\n",
       "      <td>/item/news_read.nhn?article_id=0004583777&amp;offi...</td>\n",
       "    </tr>\n",
       "    <tr>\n",
       "      <th>4</th>\n",
       "      <td>삼성 QLED TV 전 제품에 ‘AMD 프리싱크’ 탑재</td>\n",
       "      <td>파이낸셜뉴스</td>\n",
       "      <td>2021.02.14 18:03</td>\n",
       "      <td>/item/news_read.nhn?article_id=0004583859&amp;offi...</td>\n",
       "    </tr>\n",
       "  </tbody>\n",
       "</table>\n",
       "</div>"
      ],
      "text/plain": [
       "                                          제목    정보제공                날짜  \\\n",
       "0                   반도체 '슈퍼 호황'… 삼성전자 역대급 채용  파이낸셜뉴스  2021.02.14 18:33   \n",
       "1  [단독]인력 태부족 \"삼성반도체 경력채용 세자릿수\"..기존 직원도 전...  파이낸셜뉴스  2021.02.14 13:16   \n",
       "2       \"넷플릭스 돈주고 왜 봐\"… 삼성-LG, TV 무료 K콘텐츠 대결  파이낸셜뉴스  2021.02.14 18:04   \n",
       "3           \"넷플릭스 왜 봐\"...삼성 vs LG 무료 K콘텐츠 전쟁  파이낸셜뉴스  2021.02.14 15:28   \n",
       "4             삼성 QLED TV 전 제품에 ‘AMD 프리싱크’ 탑재  파이낸셜뉴스  2021.02.14 18:03   \n",
       "\n",
       "                                                href  \n",
       "0  /item/news_read.nhn?article_id=0004583903&offi...  \n",
       "1  /item/news_read.nhn?article_id=0004583730&offi...  \n",
       "2  /item/news_read.nhn?article_id=0004583862&offi...  \n",
       "3  /item/news_read.nhn?article_id=0004583777&offi...  \n",
       "4  /item/news_read.nhn?article_id=0004583859&offi...  "
      ]
     },
     "execution_count": 50,
     "metadata": {},
     "output_type": "execute_result"
    }
   ],
   "source": [
    "raw.head()"
   ]
  },
  {
   "cell_type": "code",
   "execution_count": 51,
   "metadata": {},
   "outputs": [
    {
     "data": {
      "text/html": [
       "<div>\n",
       "<style scoped>\n",
       "    .dataframe tbody tr th:only-of-type {\n",
       "        vertical-align: middle;\n",
       "    }\n",
       "\n",
       "    .dataframe tbody tr th {\n",
       "        vertical-align: top;\n",
       "    }\n",
       "\n",
       "    .dataframe thead th {\n",
       "        text-align: right;\n",
       "    }\n",
       "</style>\n",
       "<table border=\"1\" class=\"dataframe\">\n",
       "  <thead>\n",
       "    <tr style=\"text-align: right;\">\n",
       "      <th></th>\n",
       "      <th>제목</th>\n",
       "      <th>정보제공</th>\n",
       "      <th>날짜</th>\n",
       "      <th>href</th>\n",
       "    </tr>\n",
       "  </thead>\n",
       "  <tbody>\n",
       "    <tr>\n",
       "      <th>152</th>\n",
       "      <td>삼성, 美 반도체 투자 '밀당'…'2000억 세금' 두고 입장차</td>\n",
       "      <td>머니투데이</td>\n",
       "      <td>2021.02.06 13:00</td>\n",
       "      <td>/item/news_read.nhn?article_id=0004540142&amp;offi...</td>\n",
       "    </tr>\n",
       "    <tr>\n",
       "      <th>153</th>\n",
       "      <td>삼성 파운드리 증설 검토···美에 9,000억 稅혜택 신청</td>\n",
       "      <td>서울경제</td>\n",
       "      <td>2021.02.06 08:02</td>\n",
       "      <td>/item/news_read.nhn?article_id=0003868100&amp;offi...</td>\n",
       "    </tr>\n",
       "    <tr>\n",
       "      <th>154</th>\n",
       "      <td>‘반도체 공룡’ AMD, 삼성전자에 위탁생산 맡길까 말까[TNA]</td>\n",
       "      <td>헤럴드경제</td>\n",
       "      <td>2021.02.06 09:02</td>\n",
       "      <td>/item/news_read.nhn?article_id=0001790599&amp;offi...</td>\n",
       "    </tr>\n",
       "    <tr>\n",
       "      <th>155</th>\n",
       "      <td>삼성 준법위 조언했던 이한상 교수 \"준법위 권한과 책임 강화해야\"</td>\n",
       "      <td>조선비즈</td>\n",
       "      <td>2021.02.06 06:01</td>\n",
       "      <td>/item/news_read.nhn?article_id=0000666082&amp;offi...</td>\n",
       "    </tr>\n",
       "    <tr>\n",
       "      <th>156</th>\n",
       "      <td>\"유 퀴즈?\" 삼성전자 투자 안하고 백신접종 후를 노리는 이유</td>\n",
       "      <td>매일경제</td>\n",
       "      <td>2021.02.06 05:58</td>\n",
       "      <td>/item/news_read.nhn?article_id=0004745477&amp;offi...</td>\n",
       "    </tr>\n",
       "  </tbody>\n",
       "</table>\n",
       "</div>"
      ],
      "text/plain": [
       "                                       제목   정보제공                날짜  \\\n",
       "152   삼성, 美 반도체 투자 '밀당'…'2000억 세금' 두고 입장차  머니투데이  2021.02.06 13:00   \n",
       "153      삼성 파운드리 증설 검토···美에 9,000억 稅혜택 신청   서울경제  2021.02.06 08:02   \n",
       "154  ‘반도체 공룡’ AMD, 삼성전자에 위탁생산 맡길까 말까[TNA]  헤럴드경제  2021.02.06 09:02   \n",
       "155  삼성 준법위 조언했던 이한상 교수 \"준법위 권한과 책임 강화해야\"   조선비즈  2021.02.06 06:01   \n",
       "156    \"유 퀴즈?\" 삼성전자 투자 안하고 백신접종 후를 노리는 이유   매일경제  2021.02.06 05:58   \n",
       "\n",
       "                                                  href  \n",
       "152  /item/news_read.nhn?article_id=0004540142&offi...  \n",
       "153  /item/news_read.nhn?article_id=0003868100&offi...  \n",
       "154  /item/news_read.nhn?article_id=0001790599&offi...  \n",
       "155  /item/news_read.nhn?article_id=0000666082&offi...  \n",
       "156  /item/news_read.nhn?article_id=0004745477&offi...  "
      ]
     },
     "execution_count": 51,
     "metadata": {},
     "output_type": "execute_result"
    }
   ],
   "source": [
    "raw.tail()"
   ]
  },
  {
   "cell_type": "markdown",
   "metadata": {},
   "source": [
    "## 특정 url 을 통해 게시물 내용 가져오기"
   ]
  },
  {
   "cell_type": "code",
   "execution_count": 52,
   "metadata": {
    "scrolled": true
   },
   "outputs": [
    {
     "data": {
      "text/plain": [
       "'/item/news_read.nhn?article_id=0004583903&office_id=014&code=005930&page=1&sm=title_entity_id.basic'"
      ]
     },
     "execution_count": 52,
     "metadata": {},
     "output_type": "execute_result"
    }
   ],
   "source": [
    "href = raw.loc[0, \"href\"]\n",
    "href"
   ]
  },
  {
   "cell_type": "code",
   "execution_count": 53,
   "metadata": {},
   "outputs": [
    {
     "data": {
      "text/plain": [
       "'https://finance.naver.com/item/news_read.nhn?article_id=0004583903&office_id=014&code=005930&page=1&sm=title_entity_id.basic'"
      ]
     },
     "execution_count": 53,
     "metadata": {},
     "output_type": "execute_result"
    }
   ],
   "source": [
    "url = f\"{base_url}{href}\"\n",
    "url"
   ]
  },
  {
   "cell_type": "code",
   "execution_count": 54,
   "metadata": {},
   "outputs": [],
   "source": [
    "response = requests.get(url)"
   ]
  },
  {
   "cell_type": "markdown",
   "metadata": {},
   "source": [
    "## bs4를 통해 html 태그 찾기"
   ]
  },
  {
   "cell_type": "code",
   "execution_count": 55,
   "metadata": {},
   "outputs": [],
   "source": [
    "html = bs(response.text, \"lxml\")"
   ]
  },
  {
   "cell_type": "code",
   "execution_count": 56,
   "metadata": {},
   "outputs": [
    {
     "data": {
      "text/plain": [
       "'\\n메모리·파운드리·시스템LSI 등올 경력직 세자릿수규모 뽑을듯  최근 반도체 수요가 급증하면서 삼성전자가 부족한 반도체 인력 확보를 위해 세자릿수 규모의 경력직원 채용에 나섰다. 또 일부 인력을 전환배치하는 등 각 산업에서 수요가 폭발하는 반도체 초호황기를 대비한 움직임이 빨라지고 있다.   14일 본지 취재 결과 삼성전자는 통상 두자릿수 정도의 경력사원을 채용해왔으나 이번 채용 규모는 세자릿수대인 것으로 파악됐다. 반도체 업계의 한 헤드헌터는 \"삼성전자는 예년을 훨씬 웃도는 규모의 경력 채용을 염두에 두고 있다\"며 \"채용 과정에서 소폭 유동적일 수 있기 때문에 정확한 숫자는 결정되지 않았지만, 경력 채용 기준 역대급 규모로 보고 있다\"고 밝혔다.   그는 이어 \"삼성전자는 그동안 00명대의 경력을 채용해 왔다\"며 \"하지만 이번에는 000명대로 100여명은 확실히 넘고, 지원자 수준에 따라 그 이상이 될 수도 있다\"고 설명했다. 삼성전자는 현재 반도체부품(DS) 부문 산하 메모리사업부, 시스템LSI사업부, 파운드리(위탁생산)사업부, 반도체연구소, 삼성종합기술원 등에서 근무할 경력직원을 채용 중이다. 채용 규모와 관련해 삼성전자 측은 \"비공개로 공식적인 확인이 어렵다\"는 입장이다.   삼성전자는 또 설 명절 직전인 지난 8~9일께 비메모리사업부인 시스템LSI의 일부 인력을 메모리사업부로 이동시킨 것으로 확인됐다.   전환배치 대상인 다수의 직원이 부서 이동 전날에야 급하게 인사 조치됐다는 통보를 받았다. 반도체 슈퍼사이클이 머지않았다는 전망이 이어지고 있는 가운데 업계 1위 삼성전자 내부에서도 인력효율화 작업이 급박하게 돌아가고 있다는 분위기가 읽힌다.   특히 이번 전환배치 조치 대상에는 시스템온칩(SoC) 설계인력이 많이 포함됐다. SoC는 여러 가지 기능을 가진 시스템을 하나의 칩으로 구현한 기술집약적 반도체다. 회사는 이들 인력을 메모리 설계와 솔루션 제품 분야에 투입할 계획이다. 삼성전자 관계자는 \"시스템(비메모리) 설계역량이 뛰어난 이번 전환배치 인력은 메모리로 이동해 메모리 설계와 솔리드스테이트드라이브(SSD) 컨트롤러 개발 등을 담당할 것\"이라고 전했다.   이 밖에 삼성전자의 반도체 장비 자회사인 세메스도 현재 설계, 공정, 개발, 기획 등 거의 전 분야에서 대졸 이상 경력사원을 뽑는 등 미래산업의 중추인 반도체 인재 확보에 업체마다 비상이 걸린 상황이다.  km@fnnews.com 김경민 기자 ▶ 헉! 소리나는 스!토리 뉴스 [헉스]▶ \\'아는 척\\'하고 싶은 당신을 위한 [두유노우]▶ 날로먹고 구워먹는 금융이슈 [파인애플]  ※ 저작권자 ⓒ 파이낸셜뉴스. 무단 전재-재배포 금지파이낸셜뉴스 관련뉴스해당 언론사에서 선정하며 언론사 페이지(아웃링크)로 이동해 볼 수 있습니다.\"김원효씨 전 부인입니다\" 사진 공개한 아내 심진화치과의사 이수진 \"남편이 바지에 하얀 무언가 묻혀서..\"\\'정형돈 아내\\' 한유라 \"술을 마셔도..\" 의미심장 글前 야구선수 \"와이프 아닌 장모님에 반했다\" 고백하더니..박지성 \"기성용, 내 비밀 폭로..경찰서 가야 할 수도\"\\n'"
      ]
     },
     "execution_count": 56,
     "metadata": {},
     "output_type": "execute_result"
    }
   ],
   "source": [
    "html.select(\"table\")[1].select(\"div#news_read\")[0].get_text()"
   ]
  },
  {
   "cell_type": "code",
   "execution_count": 57,
   "metadata": {},
   "outputs": [],
   "source": [
    "def get_detail(href):\n",
    "    url = f\"{base_url}{href}\"\n",
    "    response = requests.get(url)\n",
    "    html = bs(response.text, \"lxml\")\n",
    "    news_text = html.select(\"table\")[1].select(\"div#news_read\")[0].get_text()\n",
    "    return news_text"
   ]
  },
  {
   "cell_type": "code",
   "execution_count": 69,
   "metadata": {},
   "outputs": [],
   "source": [
    "raw2 = raw.tail(10)"
   ]
  },
  {
   "cell_type": "code",
   "execution_count": 70,
   "metadata": {},
   "outputs": [
    {
     "name": "stderr",
     "output_type": "stream",
     "text": [
      "/Users/corazzon/opt/anaconda3/lib/python3.7/site-packages/ipykernel_launcher.py:1: SettingWithCopyWarning: \n",
      "A value is trying to be set on a copy of a slice from a DataFrame.\n",
      "Try using .loc[row_indexer,col_indexer] = value instead\n",
      "\n",
      "See the caveats in the documentation: https://pandas.pydata.org/pandas-docs/stable/user_guide/indexing.html#returning-a-view-versus-a-copy\n",
      "  \"\"\"Entry point for launching an IPython kernel.\n"
     ]
    }
   ],
   "source": [
    "raw2[\"내용\"] = raw2[\"href\"].apply(get_detail)"
   ]
  },
  {
   "cell_type": "code",
   "execution_count": 71,
   "metadata": {},
   "outputs": [
    {
     "data": {
      "text/html": [
       "<div>\n",
       "<style scoped>\n",
       "    .dataframe tbody tr th:only-of-type {\n",
       "        vertical-align: middle;\n",
       "    }\n",
       "\n",
       "    .dataframe tbody tr th {\n",
       "        vertical-align: top;\n",
       "    }\n",
       "\n",
       "    .dataframe thead th {\n",
       "        text-align: right;\n",
       "    }\n",
       "</style>\n",
       "<table border=\"1\" class=\"dataframe\">\n",
       "  <thead>\n",
       "    <tr style=\"text-align: right;\">\n",
       "      <th></th>\n",
       "      <th>제목</th>\n",
       "      <th>정보제공</th>\n",
       "      <th>날짜</th>\n",
       "      <th>href</th>\n",
       "      <th>내용</th>\n",
       "    </tr>\n",
       "  </thead>\n",
       "  <tbody>\n",
       "    <tr>\n",
       "      <th>147</th>\n",
       "      <td>삼성전자, 출하량 100만대 기념 '비스포크 페스티벌' 개최</td>\n",
       "      <td>머니투데이</td>\n",
       "      <td>2021.02.07 11:00</td>\n",
       "      <td>/item/news_read.nhn?article_id=0003868267&amp;offi...</td>\n",
       "      <td>\\n최대 200만 캐시백 등 혜택삼성전자 모델이 삼성디지털프라자 강남 본점에서 ‘비...</td>\n",
       "    </tr>\n",
       "    <tr>\n",
       "      <th>148</th>\n",
       "      <td>코스피 주간 개인 순매수 1위 '삼성전자'</td>\n",
       "      <td>이데일리</td>\n",
       "      <td>2021.02.07 10:25</td>\n",
       "      <td>/item/news_read.nhn?article_id=0004847646&amp;offi...</td>\n",
       "      <td>\\n\\t\\t\\t [이데일리 김소연 기자] 김소연 (sykim@edaily.co.kr...</td>\n",
       "    </tr>\n",
       "    <tr>\n",
       "      <th>149</th>\n",
       "      <td>코스피 주간 기관 순매도 1위 '삼성전자'</td>\n",
       "      <td>이데일리</td>\n",
       "      <td>2021.02.07 10:25</td>\n",
       "      <td>/item/news_read.nhn?article_id=0004847645&amp;offi...</td>\n",
       "      <td>\\n\\t\\t\\t [이데일리 김소연 기자] 김소연 (sykim@edaily.co.kr...</td>\n",
       "    </tr>\n",
       "    <tr>\n",
       "      <th>150</th>\n",
       "      <td>코스피 주간 외국인 순매도 1위 '삼성전자'</td>\n",
       "      <td>이데일리</td>\n",
       "      <td>2021.02.07 10:25</td>\n",
       "      <td>/item/news_read.nhn?article_id=0004847643&amp;offi...</td>\n",
       "      <td>\\n\\t\\t\\t [이데일리 김소연 기자] 김소연 (sykim@edaily.co.kr...</td>\n",
       "    </tr>\n",
       "    <tr>\n",
       "      <th>151</th>\n",
       "      <td>日 조미료 회사, 삼성도 울고 갈 '반도체 슈퍼 갑' 된 사연 [황정수...</td>\n",
       "      <td>한국경제</td>\n",
       "      <td>2021.02.06 15:34</td>\n",
       "      <td>/item/news_read.nhn?article_id=0004495866&amp;offi...</td>\n",
       "      <td>\\n조미료 '미원'의 원조 日 아지노모토반도체 기판용 절연소재 'ABF' 독점 생산...</td>\n",
       "    </tr>\n",
       "    <tr>\n",
       "      <th>152</th>\n",
       "      <td>삼성, 美 반도체 투자 '밀당'…'2000억 세금' 두고 입장차</td>\n",
       "      <td>머니투데이</td>\n",
       "      <td>2021.02.06 13:00</td>\n",
       "      <td>/item/news_read.nhn?article_id=0004540142&amp;offi...</td>\n",
       "      <td>\\n\\t\\t\\t [머니투데이 심재현 기자] \"막바지 '밀당'(밀고 당기기) 단계인 ...</td>\n",
       "    </tr>\n",
       "    <tr>\n",
       "      <th>153</th>\n",
       "      <td>삼성 파운드리 증설 검토···美에 9,000억 稅혜택 신청</td>\n",
       "      <td>서울경제</td>\n",
       "      <td>2021.02.06 08:02</td>\n",
       "      <td>/item/news_read.nhn?article_id=0003868100&amp;offi...</td>\n",
       "      <td>\\n투자 조건 놓고 오스틴 등 후보지 물색미국 텍사스 오스틴에 위치한 삼성전자 반도...</td>\n",
       "    </tr>\n",
       "    <tr>\n",
       "      <th>154</th>\n",
       "      <td>‘반도체 공룡’ AMD, 삼성전자에 위탁생산 맡길까 말까[TNA]</td>\n",
       "      <td>헤럴드경제</td>\n",
       "      <td>2021.02.06 09:02</td>\n",
       "      <td>/item/news_read.nhn?article_id=0001790599&amp;offi...</td>\n",
       "      <td>\\nAMD, 애플과 ‘밀월관계’ TSMC에 불만…삼성과 손 잡을 가능성↑첨단 공정에...</td>\n",
       "    </tr>\n",
       "    <tr>\n",
       "      <th>155</th>\n",
       "      <td>삼성 준법위 조언했던 이한상 교수 \"준법위 권한과 책임 강화해야\"</td>\n",
       "      <td>조선비즈</td>\n",
       "      <td>2021.02.06 06:01</td>\n",
       "      <td>/item/news_read.nhn?article_id=0000666082&amp;offi...</td>\n",
       "      <td>\\n삼성그룹의 기업 지배구조 조언한 이한상 고려대 교수\"삼성 컨트롤타워 사업지원TF...</td>\n",
       "    </tr>\n",
       "    <tr>\n",
       "      <th>156</th>\n",
       "      <td>\"유 퀴즈?\" 삼성전자 투자 안하고 백신접종 후를 노리는 이유</td>\n",
       "      <td>매일경제</td>\n",
       "      <td>2021.02.06 05:58</td>\n",
       "      <td>/item/news_read.nhn?article_id=0004745477&amp;offi...</td>\n",
       "      <td>\\n[머니콕]김현준 더퍼블릭자산운용 대표 인터뷰 1편  [머니콕] 연초 거침없이 상...</td>\n",
       "    </tr>\n",
       "  </tbody>\n",
       "</table>\n",
       "</div>"
      ],
      "text/plain": [
       "                                             제목   정보제공                날짜  \\\n",
       "147           삼성전자, 출하량 100만대 기념 '비스포크 페스티벌' 개최  머니투데이  2021.02.07 11:00   \n",
       "148                     코스피 주간 개인 순매수 1위 '삼성전자'   이데일리  2021.02.07 10:25   \n",
       "149                     코스피 주간 기관 순매도 1위 '삼성전자'   이데일리  2021.02.07 10:25   \n",
       "150                    코스피 주간 외국인 순매도 1위 '삼성전자'   이데일리  2021.02.07 10:25   \n",
       "151  日 조미료 회사, 삼성도 울고 갈 '반도체 슈퍼 갑' 된 사연 [황정수...   한국경제  2021.02.06 15:34   \n",
       "152         삼성, 美 반도체 투자 '밀당'…'2000억 세금' 두고 입장차  머니투데이  2021.02.06 13:00   \n",
       "153            삼성 파운드리 증설 검토···美에 9,000억 稅혜택 신청   서울경제  2021.02.06 08:02   \n",
       "154        ‘반도체 공룡’ AMD, 삼성전자에 위탁생산 맡길까 말까[TNA]  헤럴드경제  2021.02.06 09:02   \n",
       "155        삼성 준법위 조언했던 이한상 교수 \"준법위 권한과 책임 강화해야\"   조선비즈  2021.02.06 06:01   \n",
       "156          \"유 퀴즈?\" 삼성전자 투자 안하고 백신접종 후를 노리는 이유   매일경제  2021.02.06 05:58   \n",
       "\n",
       "                                                  href  \\\n",
       "147  /item/news_read.nhn?article_id=0003868267&offi...   \n",
       "148  /item/news_read.nhn?article_id=0004847646&offi...   \n",
       "149  /item/news_read.nhn?article_id=0004847645&offi...   \n",
       "150  /item/news_read.nhn?article_id=0004847643&offi...   \n",
       "151  /item/news_read.nhn?article_id=0004495866&offi...   \n",
       "152  /item/news_read.nhn?article_id=0004540142&offi...   \n",
       "153  /item/news_read.nhn?article_id=0003868100&offi...   \n",
       "154  /item/news_read.nhn?article_id=0001790599&offi...   \n",
       "155  /item/news_read.nhn?article_id=0000666082&offi...   \n",
       "156  /item/news_read.nhn?article_id=0004745477&offi...   \n",
       "\n",
       "                                                    내용  \n",
       "147  \\n최대 200만 캐시백 등 혜택삼성전자 모델이 삼성디지털프라자 강남 본점에서 ‘비...  \n",
       "148  \\n\\t\\t\\t [이데일리 김소연 기자] 김소연 (sykim@edaily.co.kr...  \n",
       "149  \\n\\t\\t\\t [이데일리 김소연 기자] 김소연 (sykim@edaily.co.kr...  \n",
       "150  \\n\\t\\t\\t [이데일리 김소연 기자] 김소연 (sykim@edaily.co.kr...  \n",
       "151  \\n조미료 '미원'의 원조 日 아지노모토반도체 기판용 절연소재 'ABF' 독점 생산...  \n",
       "152  \\n\\t\\t\\t [머니투데이 심재현 기자] \"막바지 '밀당'(밀고 당기기) 단계인 ...  \n",
       "153  \\n투자 조건 놓고 오스틴 등 후보지 물색미국 텍사스 오스틴에 위치한 삼성전자 반도...  \n",
       "154  \\nAMD, 애플과 ‘밀월관계’ TSMC에 불만…삼성과 손 잡을 가능성↑첨단 공정에...  \n",
       "155  \\n삼성그룹의 기업 지배구조 조언한 이한상 고려대 교수\"삼성 컨트롤타워 사업지원TF...  \n",
       "156  \\n[머니콕]김현준 더퍼블릭자산운용 대표 인터뷰 1편  [머니콕] 연초 거침없이 상...  "
      ]
     },
     "execution_count": 71,
     "metadata": {},
     "output_type": "execute_result"
    }
   ],
   "source": [
    "raw2"
   ]
  },
  {
   "cell_type": "code",
   "execution_count": 76,
   "metadata": {},
   "outputs": [
    {
     "data": {
      "text/plain": [
       "'\\nAMD, 애플과 ‘밀월관계’ TSMC에 불만…삼성과 손 잡을 가능성↑첨단 공정에 필수적인 ‘ABF기판 공급 부족’은 걸림돌 가능성오는 15일 인텔 새 CEO 취임 일성에도 촉각리사 수 AMD 최고경영자가 CES2021 기조연설에서 자사의 향후 목표에 대해 설명하고 있다. [AMD뉴스룸][헤럴드경제=양대근 기자] 세계 5대 팹리스(반도체 설계 전문 기업, 퀄컴·브로드컴·엔비디아·미디어텍·AMD) 업체 중 한 곳인 미국 AMD가 파운드리(반도체 위탁 생산) 체제의 변화를 고려하는 가운데 삼성전자가 수혜를 얻을 지 관심이 모아지고 있다. 다만 실제 성사 가능성에 대해서는 의견이 엇갈리는 모습이다.6일 주요 외신과 업계에 따르면 현재 AMD는 내부적으로 그래픽처리장치(GPU) 등 일부 제품에 대해 위탁생산 다변화를 검토하고 있다.AMD가 이처럼 다변화를 검토하는 이유는 애플과 대만의 TSMC의 ‘밀월 관계’ 때문이다. 현재 TSMC는 애플의 모바일 애플리케이션프로세서(AP)와 노트북PC용 CPU 등을 사실상 독점 생산하고 있다. 업계에서는 TSMC가 현재 보유하고 있는 5나노미터(1㎚는 10억분의 1m) 이하급 최첨단 반도체 공정에서 애플 제품이 차지하는 비중이 50%~80% 수준에 달할 것으로 본다.똑같이 TSMC에 외주생산을 맡기고 있는 AMD로서는 이런 상황이 불만이다. AMD는 ‘젠4’ 아키텍처 기반 CPU와 ‘RDNA3’ 아키텍처 기반 GPU 등의 생산을 TSMC의 최첨단 5나노 공정 라인에 맡기고 있다. 하지만 애플이 TSMC에 맡기는 외주 생산 물량을 더욱 늘릴 것으로 관측되면서 AMD 입장에서는 자칫 후순위로 밀려나게 되지 않을까 우려가 높아지고 있는 것이다.이에 따라 AMD의 새 파운드리 후보로 삼성전자가 유력하게 거론되고 있다. 실제로 전세계에서 5나노 이하 최첨단 반도체가 생산 가능한 곳은 사실상 삼성전자와 TSMC 두 곳 밖에 없다.반면 실제 성사 가능성이 높지 않다는 분석도 있다. 대만의 디지타임즈는 5일(현지시간) “AMD는 5나노 또는 3나노급 반도체 주문을 TSMC에서 삼성전자로 이전할 가능성이 낮다”면서 “ABF 기판의 공급 부족이 주요 원인”이라고 보도했다.ABF 기판은 고성능 칩셋 제조에 필수적인 요소로, ABF(아지노모도 빌드업 필름)는 기판의 층간 절연층을 형성하는 재료다. 5G 네트워크 시장의 성장, 개인용 PC 수요 증가 등으로 인해 전세계적인 공급 부족이 확산하고 있다.또한 실제 AMD가 삼성전자를 파운드리로 선정한다고 해도 올해 당장 생산에 나서는 것은 불가능하다는 지적이다. 삼성전자와 AMD는 파운드리 협업 이력이 없기 때문에 두 업체가 일정을 공유하며 GPU 설계와 개발에 나선다면 최소 2년 가량 소요될 전망이다. AMD가 삼성전자에 생산을 맡길 경우 실제 제품은 2022년 후반부터 3나노 공정을 중심으로 생산될 것으로 예상된다.이런 가운데 또다른 반도체 공룡인 인텔의 행보에도 관심이 모아진다. 인텔의 차기 최고경영자(CEO)로 내정된 팻 겔싱어는 오는 15일(현지시간) 공식 취임과 함께 향후 위탁생산 방향 등에 대해 구체적으로 밝힌 예정이다.bigroot@heraldcorp.com▶환경적 대화기구 \\'헤럴드에코\\'▶밀리터리 전문 콘텐츠 ‘헤밀’▶헤럴드경제 네이버 채널 구독- Copyrights ⓒ 헤럴드경제 & heraldbiz.com, 무단 전재 및 재배포 금지 -헤럴드경제 관련뉴스해당 언론사에서 선정하며 언론사 페이지(아웃링크)로 이동해 볼 수 있습니다.\"광고 한 번에 벤츠 한대값\" 유튜버 \\'억대 수입\\'의 실상! [IT선빵!]홈술족은 \\'불금\\'에 편의점 가고 \\'하몽\\' 배달시킨다 [언박싱]엔씨, \\'리니지M·2M\\' 8000억씩 벌었다…연매출 \\'2조 클럽\\' 가입오토바이 몰던 60대 배달원, 마을버스와 충돌 사망\"류호정, 국회서 듣도 보도 못한 새로운 꼰대\"…野 보좌진協 성명\\n'"
      ]
     },
     "execution_count": 76,
     "metadata": {},
     "output_type": "execute_result"
    }
   ],
   "source": [
    "raw2.iloc[-3][\"내용\"]"
   ]
  },
  {
   "cell_type": "code",
   "execution_count": null,
   "metadata": {},
   "outputs": [],
   "source": []
  }
 ],
 "metadata": {
  "kernelspec": {
   "display_name": "Python 3",
   "language": "python",
   "name": "python3"
  },
  "language_info": {
   "codemirror_mode": {
    "name": "ipython",
    "version": 3
   },
   "file_extension": ".py",
   "mimetype": "text/x-python",
   "name": "python",
   "nbconvert_exporter": "python",
   "pygments_lexer": "ipython3",
   "version": "3.7.6"
  },
  "toc": {
   "base_numbering": 1,
   "nav_menu": {},
   "number_sections": true,
   "sideBar": true,
   "skip_h1_title": false,
   "title_cell": "Table of Contents",
   "title_sidebar": "Contents",
   "toc_cell": false,
   "toc_position": {},
   "toc_section_display": true,
   "toc_window_display": false
  },
  "varInspector": {
   "cols": {
    "lenName": 16,
    "lenType": 16,
    "lenVar": 40
   },
   "kernels_config": {
    "python": {
     "delete_cmd_postfix": "",
     "delete_cmd_prefix": "del ",
     "library": "var_list.py",
     "varRefreshCmd": "print(var_dic_list())"
    },
    "r": {
     "delete_cmd_postfix": ") ",
     "delete_cmd_prefix": "rm(",
     "library": "var_list.r",
     "varRefreshCmd": "cat(var_dic_list()) "
    }
   },
   "types_to_exclude": [
    "module",
    "function",
    "builtin_function_or_method",
    "instance",
    "_Feature"
   ],
   "window_display": false
  }
 },
 "nbformat": 4,
 "nbformat_minor": 4
}
